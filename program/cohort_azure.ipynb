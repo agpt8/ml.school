{
 "cells": [
  {
   "cell_type": "markdown",
   "metadata": {},
   "source": [
    "# Building Machine Learning Systems That Don't Suck\n"
   ]
  },
  {
   "cell_type": "markdown",
   "metadata": {},
   "source": [
    "References:\n",
    "\n",
    "1. [Azure ML Studio Setup](https://learn.microsoft.com/en-us/azure/machine-learning/quickstart-create-resources?view=azureml-api-2)\n",
    "2. [ML Studio Compute creation](https://learn.microsoft.com/en-us/azure/machine-learning/how-to-create-compute-instance?view=azureml-api-2&tabs=python)\n",
    "3. [ML Studio instance pricing](https://azure.microsoft.com/en-us/pricing/details/machine-learning/#pricing)\n",
    "4. [AWS-Azure Compute comparison](https://www.justaftermidnight247.com/insights/aws-to-azure-instance-mapping-for-easy-comparison/)\n",
    "\n",
    "Also see `azure_setup.md`. This file documents initial setup steps to get you up and running\n"
   ]
  },
  {
   "cell_type": "markdown",
   "metadata": {},
   "source": [
    "## Section 1: Introduction and Initial Setup\n"
   ]
  },
  {
   "metadata": {
    "ExecuteTime": {
     "end_time": "2024-04-06T14:38:23.568196Z",
     "start_time": "2024-04-06T14:38:23.354401Z"
    }
   },
   "cell_type": "code",
   "source": [
    "%load_ext autoreload\n",
    "%autoreload 2\n",
    "%load_ext dotenv\n",
    "%dotenv\n",
    "\n",
    "import logging\n",
    "import sys\n",
    "from pathlib import Path\n",
    "\n",
    "import ipytest\n",
    "\n",
    "CODE_FOLDER = Path(\"code\")\n",
    "sys.path.extend([f\"./{CODE_FOLDER}\"])\n",
    "\n",
    "DATA_FILEPATH = \"penguins.csv\"\n",
    "\n",
    "ipytest.autoconfig(raise_on_error=True)\n",
    "\n",
    "# By default, basic information about HTTP sessions (URLs, headers, etc.)\n",
    "# is logged at INFO level. Detailed DEBUG level logging, including request/response\n",
    "# bodies and unredacted headers, can be enabled on a client with the `logging_enable` argument.\n",
    "# See full SDK logging documentation with examples in the link below.\n",
    "# https://learn.microsoft.com/en-us/azure/developer/python/sdk/azure-sdk-logging\n",
    "#\n",
    "# To prevent these from spoiling the output of this notebook cells,\n",
    "# we can change the logging  level to ERROR instead.\n",
    "logging.getLogger(\"azure.ai.ml\").setLevel(logging.WARNING)"
   ],
   "outputs": [],
   "execution_count": 1
  },
  {
   "metadata": {},
   "cell_type": "markdown",
   "source": "Let's now load the workspace configuration using the sdk and create a client for later use.\n"
  },
  {
   "metadata": {
    "ExecuteTime": {
     "end_time": "2024-04-06T14:38:28.115488Z",
     "start_time": "2024-04-06T14:38:23.570211Z"
    }
   },
   "cell_type": "code",
   "source": [
    "from azure.ai.ml import MLClient\n",
    "from azure.identity import DefaultAzureCredential\n",
    "\n",
    "client = MLClient.from_config(\n",
    "    credential=DefaultAzureCredential(), file_path=\"../config.json\"\n",
    ")"
   ],
   "outputs": [
    {
     "name": "stderr",
     "output_type": "stream",
     "text": [
      "Found the config file in: D:\\DataspellProjects\\ml.school\\config.json\n"
     ]
    }
   ],
   "execution_count": 2
  },
  {
   "metadata": {},
   "cell_type": "markdown",
   "source": "If you are running the pipeline in Local Mode on an ARM64 machine (for example, on Apple Silicon), you will need to use a custom Docker image to train and evaluate the model. Let's create a variable indicating if we are running on an ARM64 machine.\n"
  },
  {
   "metadata": {
    "ExecuteTime": {
     "end_time": "2024-04-06T14:38:28.336460Z",
     "start_time": "2024-04-06T14:38:28.116495Z"
    }
   },
   "cell_type": "code",
   "source": [
    "# We can retrieve the architecture of the local\n",
    "# computer using the `uname -m` command.\n",
    "architecture = !(uname -m)\n",
    "\n",
    "IS_ARM64_ARCHITECTURE = architecture[0] == \"arm64\""
   ],
   "outputs": [],
   "execution_count": 3
  },
  {
   "metadata": {
    "ExecuteTime": {
     "end_time": "2024-04-06T14:39:01.804740Z",
     "start_time": "2024-04-06T14:38:28.338228Z"
    }
   },
   "cell_type": "code",
   "source": [
    "# Creating/manage compute\n",
    "# https://learn.microsoft.com/en-us/azure/machine-learning/how-to-create-compute-instance?view=azureml-api-2&tabs=python#create\n",
    "\n",
    "# Compute Instances need to have a unique name across the region.\n",
    "# Here we create a unique name with current datetime\n",
    "from azure.ai.ml.entities import ComputeInstance\n",
    "\n",
    "# ci_basic_name = \"mlschool\" + datetime.datetime.now().strftime(\"%Y%m%d%H%M\")\n",
    "ci_basic_name = \"mlschool\"\n",
    "ci_basic = ComputeInstance(\n",
    "    name=ci_basic_name, size=\"Standard_F4s_v2\", idle_time_before_shutdown_minutes=15\n",
    ")\n",
    "client.begin_create_or_update(ci_basic).result()"
   ],
   "outputs": [
    {
     "data": {
      "text/plain": [
       "ComputeInstance({'state': 'Stopped', 'last_operation': {'operation_name': 'Stop', 'operation_time': '2024-04-06T11:35:59.453Z', 'operation_status': 'Succeeded', 'operation_trigger': 'User'}, 'os_image_metadata': <azure.ai.ml.entities._compute._image_metadata.ImageMetadata object at 0x0000019F04C2A150>, 'services': [{'display_name': 'Jupyter', 'endpoint_uri': 'https://mlschool.centralindia.instances.azureml.ms/tree/'}, {'display_name': 'Jupyter Lab', 'endpoint_uri': 'https://mlschool.centralindia.instances.azureml.ms/lab'}], 'type': 'computeinstance', 'created_on': '2024-04-06T11:31:30.618821+0000', 'provisioning_state': 'Succeeded', 'provisioning_errors': None, 'name': 'mlschool', 'description': None, 'tags': None, 'properties': {}, 'print_as_yaml': False, 'id': '/subscriptions/2acef264-d285-40af-be00-8dae3516307c/resourceGroups/ml-school-rg/providers/Microsoft.MachineLearningServices/workspaces/ml-school/computes/mlschool', 'Resource__source_path': '', 'base_path': 'D:\\\\DataspellProjects\\\\ml.school\\\\program', 'creation_context': None, 'serialize': <msrest.serialization.Serializer object at 0x0000019F04C29DD0>, 'resource_id': None, 'location': 'centralindia', 'size': 'Standard_F4s_v2', 'ssh_public_access_enabled': False, 'create_on_behalf_of': None, 'network_settings': <azure.ai.ml.entities._compute.compute.NetworkSettings object at 0x0000019F04C291D0>, 'ssh_settings': <azure.ai.ml.entities._compute.compute_instance.ComputeInstanceSshSettings object at 0x0000019F04C2A190>, 'schedules': None, 'identity': None, 'idle_time_before_shutdown': 'PT15M', 'idle_time_before_shutdown_minutes': 15, 'setup_scripts': None, 'enable_node_public_ip': True, 'enable_sso': True, 'enable_root_access': True, 'custom_applications': None, 'subnet': None})"
      ]
     },
     "execution_count": 4,
     "metadata": {},
     "output_type": "execute_result"
    }
   ],
   "execution_count": 4
  },
  {
   "metadata": {
    "ExecuteTime": {
     "end_time": "2024-04-06T14:39:03.307169Z",
     "start_time": "2024-04-06T14:39:01.806751Z"
    }
   },
   "cell_type": "code",
   "source": [
    "# make sure the compute is not running unneccesarily. We will change this later\n",
    "try:\n",
    "    client.compute.begin_stop(ci_basic_name).wait()\n",
    "except:\n",
    "    pass"
   ],
   "outputs": [
    {
     "ename": "HttpResponseError",
     "evalue": "(BadRequest) {\"error\":{\"code\":\"ComputeInstanceAlreadyStopped\",\"message\":\"The specified Azure ML Compute Instance mlschool is already stopped\"}}\nCode: BadRequest\nMessage: {\"error\":{\"code\":\"ComputeInstanceAlreadyStopped\",\"message\":\"The specified Azure ML Compute Instance mlschool is already stopped\"}}",
     "output_type": "error",
     "traceback": [
      "\u001B[1;31m---------------------------------------------------------------------------\u001B[0m",
      "\u001B[1;31mOperationFailed\u001B[0m                           Traceback (most recent call last)",
      "File \u001B[1;32mD:\\DataspellProjects\\ml.school\\.venv\\Lib\\site-packages\\azure\\core\\polling\\base_polling.py:757\u001B[0m, in \u001B[0;36mLROBasePolling.run\u001B[1;34m(self)\u001B[0m\n\u001B[0;32m    756\u001B[0m \u001B[38;5;28;01mtry\u001B[39;00m:\n\u001B[1;32m--> 757\u001B[0m     \u001B[38;5;28;43mself\u001B[39;49m\u001B[38;5;241;43m.\u001B[39;49m\u001B[43m_poll\u001B[49m\u001B[43m(\u001B[49m\u001B[43m)\u001B[49m\n\u001B[0;32m    759\u001B[0m \u001B[38;5;28;01mexcept\u001B[39;00m BadStatus \u001B[38;5;28;01mas\u001B[39;00m err:\n",
      "File \u001B[1;32mD:\\DataspellProjects\\ml.school\\.venv\\Lib\\site-packages\\azure\\core\\polling\\base_polling.py:789\u001B[0m, in \u001B[0;36mLROBasePolling._poll\u001B[1;34m(self)\u001B[0m\n\u001B[0;32m    788\u001B[0m \u001B[38;5;28;01mif\u001B[39;00m _failed(\u001B[38;5;28mself\u001B[39m\u001B[38;5;241m.\u001B[39mstatus()):\n\u001B[1;32m--> 789\u001B[0m     \u001B[38;5;28;01mraise\u001B[39;00m OperationFailed(\u001B[38;5;124m\"\u001B[39m\u001B[38;5;124mOperation failed or canceled\u001B[39m\u001B[38;5;124m\"\u001B[39m)\n\u001B[0;32m    791\u001B[0m final_get_url \u001B[38;5;241m=\u001B[39m \u001B[38;5;28mself\u001B[39m\u001B[38;5;241m.\u001B[39m_operation\u001B[38;5;241m.\u001B[39mget_final_get_url(\u001B[38;5;28mself\u001B[39m\u001B[38;5;241m.\u001B[39m_pipeline_response)\n",
      "\u001B[1;31mOperationFailed\u001B[0m: Operation failed or canceled",
      "\nThe above exception was the direct cause of the following exception:\n",
      "\u001B[1;31mHttpResponseError\u001B[0m                         Traceback (most recent call last)",
      "Cell \u001B[1;32mIn[5], line 2\u001B[0m\n\u001B[0;32m      1\u001B[0m \u001B[38;5;66;03m# make sure the compute is not running unneccesarily. We will change this later\u001B[39;00m\n\u001B[1;32m----> 2\u001B[0m \u001B[43mclient\u001B[49m\u001B[38;5;241;43m.\u001B[39;49m\u001B[43mcompute\u001B[49m\u001B[38;5;241;43m.\u001B[39;49m\u001B[43mbegin_stop\u001B[49m\u001B[43m(\u001B[49m\u001B[43mci_basic_name\u001B[49m\u001B[43m)\u001B[49m\u001B[38;5;241;43m.\u001B[39;49m\u001B[43mwait\u001B[49m\u001B[43m(\u001B[49m\u001B[43m)\u001B[49m\n",
      "File \u001B[1;32mD:\\DataspellProjects\\ml.school\\.venv\\Lib\\site-packages\\azure\\core\\tracing\\decorator.py:78\u001B[0m, in \u001B[0;36mdistributed_trace.<locals>.decorator.<locals>.wrapper_use_tracer\u001B[1;34m(*args, **kwargs)\u001B[0m\n\u001B[0;32m     76\u001B[0m span_impl_type \u001B[38;5;241m=\u001B[39m settings\u001B[38;5;241m.\u001B[39mtracing_implementation()\n\u001B[0;32m     77\u001B[0m \u001B[38;5;28;01mif\u001B[39;00m span_impl_type \u001B[38;5;129;01mis\u001B[39;00m \u001B[38;5;28;01mNone\u001B[39;00m:\n\u001B[1;32m---> 78\u001B[0m     \u001B[38;5;28;01mreturn\u001B[39;00m \u001B[43mfunc\u001B[49m\u001B[43m(\u001B[49m\u001B[38;5;241;43m*\u001B[39;49m\u001B[43margs\u001B[49m\u001B[43m,\u001B[49m\u001B[43m \u001B[49m\u001B[38;5;241;43m*\u001B[39;49m\u001B[38;5;241;43m*\u001B[39;49m\u001B[43mkwargs\u001B[49m\u001B[43m)\u001B[49m\n\u001B[0;32m     80\u001B[0m \u001B[38;5;66;03m# Merge span is parameter is set, but only if no explicit parent are passed\u001B[39;00m\n\u001B[0;32m     81\u001B[0m \u001B[38;5;28;01mif\u001B[39;00m merge_span \u001B[38;5;129;01mand\u001B[39;00m \u001B[38;5;129;01mnot\u001B[39;00m passed_in_parent:\n",
      "File \u001B[1;32mD:\\DataspellProjects\\ml.school\\.venv\\Lib\\site-packages\\azure\\core\\polling\\_poller.py:270\u001B[0m, in \u001B[0;36mLROPoller.wait\u001B[1;34m(self, timeout)\u001B[0m\n\u001B[0;32m    266\u001B[0m \u001B[38;5;28mself\u001B[39m\u001B[38;5;241m.\u001B[39m_thread\u001B[38;5;241m.\u001B[39mjoin(timeout\u001B[38;5;241m=\u001B[39mtimeout)\n\u001B[0;32m    267\u001B[0m \u001B[38;5;28;01mtry\u001B[39;00m:\n\u001B[0;32m    268\u001B[0m     \u001B[38;5;66;03m# Let's handle possible None in forgiveness here\u001B[39;00m\n\u001B[0;32m    269\u001B[0m     \u001B[38;5;66;03m# https://github.com/python/mypy/issues/8165\u001B[39;00m\n\u001B[1;32m--> 270\u001B[0m     \u001B[38;5;28;01mraise\u001B[39;00m \u001B[38;5;28mself\u001B[39m\u001B[38;5;241m.\u001B[39m_exception  \u001B[38;5;66;03m# type: ignore\u001B[39;00m\n\u001B[0;32m    271\u001B[0m \u001B[38;5;28;01mexcept\u001B[39;00m \u001B[38;5;167;01mTypeError\u001B[39;00m:  \u001B[38;5;66;03m# Was None\u001B[39;00m\n\u001B[0;32m    272\u001B[0m     \u001B[38;5;28;01mpass\u001B[39;00m\n",
      "File \u001B[1;32mD:\\DataspellProjects\\ml.school\\.venv\\Lib\\site-packages\\azure\\core\\polling\\_poller.py:185\u001B[0m, in \u001B[0;36mLROPoller._start\u001B[1;34m(self)\u001B[0m\n\u001B[0;32m    181\u001B[0m \u001B[38;5;250m\u001B[39m\u001B[38;5;124;03m\"\"\"Start the long running operation.\u001B[39;00m\n\u001B[0;32m    182\u001B[0m \u001B[38;5;124;03mOn completion, runs any callbacks.\u001B[39;00m\n\u001B[0;32m    183\u001B[0m \u001B[38;5;124;03m\"\"\"\u001B[39;00m\n\u001B[0;32m    184\u001B[0m \u001B[38;5;28;01mtry\u001B[39;00m:\n\u001B[1;32m--> 185\u001B[0m     \u001B[38;5;28;43mself\u001B[39;49m\u001B[38;5;241;43m.\u001B[39;49m\u001B[43m_polling_method\u001B[49m\u001B[38;5;241;43m.\u001B[39;49m\u001B[43mrun\u001B[49m\u001B[43m(\u001B[49m\u001B[43m)\u001B[49m\n\u001B[0;32m    186\u001B[0m \u001B[38;5;28;01mexcept\u001B[39;00m AzureError \u001B[38;5;28;01mas\u001B[39;00m error:\n\u001B[0;32m    187\u001B[0m     \u001B[38;5;28;01mif\u001B[39;00m \u001B[38;5;129;01mnot\u001B[39;00m error\u001B[38;5;241m.\u001B[39mcontinuation_token:\n",
      "File \u001B[1;32mD:\\DataspellProjects\\ml.school\\.venv\\Lib\\site-packages\\azure\\core\\polling\\base_polling.py:772\u001B[0m, in \u001B[0;36mLROBasePolling.run\u001B[1;34m(self)\u001B[0m\n\u001B[0;32m    765\u001B[0m     \u001B[38;5;28;01mraise\u001B[39;00m HttpResponseError(\n\u001B[0;32m    766\u001B[0m         response\u001B[38;5;241m=\u001B[39m\u001B[38;5;28mself\u001B[39m\u001B[38;5;241m.\u001B[39m_pipeline_response\u001B[38;5;241m.\u001B[39mhttp_response,\n\u001B[0;32m    767\u001B[0m         message\u001B[38;5;241m=\u001B[39m\u001B[38;5;28mstr\u001B[39m(err),\n\u001B[0;32m    768\u001B[0m         error\u001B[38;5;241m=\u001B[39merr,\n\u001B[0;32m    769\u001B[0m     ) \u001B[38;5;28;01mfrom\u001B[39;00m \u001B[38;5;21;01merr\u001B[39;00m\n\u001B[0;32m    771\u001B[0m \u001B[38;5;28;01mexcept\u001B[39;00m OperationFailed \u001B[38;5;28;01mas\u001B[39;00m err:\n\u001B[1;32m--> 772\u001B[0m     \u001B[38;5;28;01mraise\u001B[39;00m HttpResponseError(response\u001B[38;5;241m=\u001B[39m\u001B[38;5;28mself\u001B[39m\u001B[38;5;241m.\u001B[39m_pipeline_response\u001B[38;5;241m.\u001B[39mhttp_response, error\u001B[38;5;241m=\u001B[39merr) \u001B[38;5;28;01mfrom\u001B[39;00m \u001B[38;5;21;01merr\u001B[39;00m\n",
      "\u001B[1;31mHttpResponseError\u001B[0m: (BadRequest) {\"error\":{\"code\":\"ComputeInstanceAlreadyStopped\",\"message\":\"The specified Azure ML Compute Instance mlschool is already stopped\"}}\nCode: BadRequest\nMessage: {\"error\":{\"code\":\"ComputeInstanceAlreadyStopped\",\"message\":\"The specified Azure ML Compute Instance mlschool is already stopped\"}}"
     ]
    }
   ],
   "execution_count": 5
  },
  {
   "metadata": {
    "ExecuteTime": {
     "end_time": "2024-04-06T15:59:48.368663Z",
     "start_time": "2024-04-06T15:59:37.785255Z"
    }
   },
   "cell_type": "code",
   "source": [
    "# Get compute\n",
    "ci_basic_state = client.compute.get(ci_basic_name)\n",
    "ci_basic_state"
   ],
   "outputs": [
    {
     "data": {
      "text/plain": [
       "ComputeInstance({'state': 'Stopped', 'last_operation': {'operation_name': 'Stop', 'operation_time': '2024-04-06T11:35:59.453Z', 'operation_status': 'Succeeded', 'operation_trigger': 'User'}, 'os_image_metadata': <azure.ai.ml.entities._compute._image_metadata.ImageMetadata object at 0x0000019F04BF2B90>, 'services': [{'display_name': 'Jupyter', 'endpoint_uri': 'https://mlschool.centralindia.instances.azureml.ms/tree/'}, {'display_name': 'Jupyter Lab', 'endpoint_uri': 'https://mlschool.centralindia.instances.azureml.ms/lab'}], 'type': 'computeinstance', 'created_on': '2024-04-06T11:31:30.618821+0000', 'provisioning_state': 'Succeeded', 'provisioning_errors': None, 'name': 'mlschool', 'description': None, 'tags': None, 'properties': {}, 'print_as_yaml': False, 'id': '/subscriptions/2acef264-d285-40af-be00-8dae3516307c/resourceGroups/ml-school-rg/providers/Microsoft.MachineLearningServices/workspaces/ml-school/computes/mlschool', 'Resource__source_path': '', 'base_path': 'D:\\\\DataspellProjects\\\\ml.school\\\\program', 'creation_context': None, 'serialize': <msrest.serialization.Serializer object at 0x0000019F7C41EE50>, 'resource_id': None, 'location': 'centralindia', 'size': 'Standard_F4s_v2', 'ssh_public_access_enabled': False, 'create_on_behalf_of': None, 'network_settings': <azure.ai.ml.entities._compute.compute.NetworkSettings object at 0x0000019F04A4D3D0>, 'ssh_settings': <azure.ai.ml.entities._compute.compute_instance.ComputeInstanceSshSettings object at 0x0000019F04C1F1D0>, 'schedules': None, 'identity': None, 'idle_time_before_shutdown': 'PT15M', 'idle_time_before_shutdown_minutes': 15, 'setup_scripts': None, 'enable_node_public_ip': True, 'enable_sso': True, 'enable_root_access': True, 'custom_applications': None, 'subnet': None})"
      ]
     },
     "execution_count": 6,
     "metadata": {},
     "output_type": "execute_result"
    }
   ],
   "execution_count": 6
  },
  {
   "metadata": {
    "ExecuteTime": {
     "end_time": "2024-04-06T16:11:14.687198Z",
     "start_time": "2024-04-06T16:10:59.903380Z"
    }
   },
   "cell_type": "code",
   "source": [
    "from azure.ai.ml.entities import PipelineJobSettings, PipelineJob\n",
    "\n",
    "# Create a PipelineJobSettings object\n",
    "settings = PipelineJobSettings()\n",
    "\n",
    "# Set the properties\n",
    "settings.default_datastore = \"penguins\"\n",
    "settings.default_compute = ci_basic_name\n",
    "settings.continue_on_step_failure = False\n",
    "settings.framework_version = \"2.12\"\n",
    "settings.py_version = \"py311\"\n",
    "\n",
    "# Create a PipelineJob\n",
    "pipeline_job = PipelineJob(settings=settings)\n",
    "\n",
    "# Now you can inspect the settings of the pipeline_job\n",
    "print(pipeline_job.settings.default_datastore)\n",
    "print(pipeline_job.settings.default_compute)\n",
    "print(pipeline_job.settings.continue_on_step_failure)\n",
    "print(pipeline_job.settings.framework_version)\n",
    "print(pipeline_job.settings.py_version)\n"
   ],
   "outputs": [
    {
     "name": "stdout",
     "output_type": "stream",
     "text": [
      "/subscriptions/2acef264-d285-40af-be00-8dae3516307c/resourceGroups/ml-school-rg/providers/Microsoft.MachineLearningServices/workspaces/ml-school/datastores/penguins\n",
      "/subscriptions/2acef264-d285-40af-be00-8dae3516307c/resourceGroups/ml-school-rg/providers/Microsoft.MachineLearningServices/workspaces/ml-school/computes/mlschool\n",
      "False\n",
      "2.12\n",
      "py311\n"
     ]
    }
   ],
   "execution_count": 14
  },
  {
   "metadata": {
    "ExecuteTime": {
     "end_time": "2024-04-06T16:19:06.305189Z",
     "start_time": "2024-04-06T16:19:05.754442Z"
    }
   },
   "cell_type": "code",
   "source": [
    "DATA_ASSET = 'penguins'\n",
    "DATA_VERSION = 1\n",
    "data = client.data.get(DATA_ASSET, DATA_VERSION)"
   ],
   "outputs": [],
   "execution_count": 21
  },
  {
   "metadata": {},
   "cell_type": "markdown",
   "source": [
    "## Section 2 - Exploratory Data Analysis\n",
    "\n",
    "Let's run Exploratory Data Analysis on the [Penguins dataset](https://www.kaggle.com/parulpandey/palmer-archipelago-antarctica-penguin-data). The goal of this session is to understand the data and the problem we are trying to solve.\n"
   ]
  },
  {
   "metadata": {
    "ExecuteTime": {
     "end_time": "2024-04-06T16:24:14.510211Z",
     "start_time": "2024-04-06T16:24:14.139394Z"
    }
   },
   "cell_type": "code",
   "source": [
    "import pandas as pd\n",
    "\n",
    "penguins = pd.read_csv(DATA_FILEPATH)\n",
    "penguins.describe(include='all')"
   ],
   "outputs": [
    {
     "data": {
      "text/plain": [
       "       species  island  culmen_length_mm  culmen_depth_mm  flipper_length_mm  \\\n",
       "count      344     344        342.000000       342.000000         342.000000   \n",
       "unique       3       3               NaN              NaN                NaN   \n",
       "top     Adelie  Biscoe               NaN              NaN                NaN   \n",
       "freq       152     168               NaN              NaN                NaN   \n",
       "mean       NaN     NaN         43.921930        17.151170         200.915205   \n",
       "std        NaN     NaN          5.459584         1.974793          14.061714   \n",
       "min        NaN     NaN         32.100000        13.100000         172.000000   \n",
       "25%        NaN     NaN         39.225000        15.600000         190.000000   \n",
       "50%        NaN     NaN         44.450000        17.300000         197.000000   \n",
       "75%        NaN     NaN         48.500000        18.700000         213.000000   \n",
       "max        NaN     NaN         59.600000        21.500000         231.000000   \n",
       "\n",
       "        body_mass_g   sex  \n",
       "count    342.000000   334  \n",
       "unique          NaN     3  \n",
       "top             NaN  MALE  \n",
       "freq            NaN   168  \n",
       "mean    4201.754386   NaN  \n",
       "std      801.954536   NaN  \n",
       "min     2700.000000   NaN  \n",
       "25%     3550.000000   NaN  \n",
       "50%     4050.000000   NaN  \n",
       "75%     4750.000000   NaN  \n",
       "max     6300.000000   NaN  "
      ],
      "text/html": [
       "<div>\n",
       "<style scoped>\n",
       "    .dataframe tbody tr th:only-of-type {\n",
       "        vertical-align: middle;\n",
       "    }\n",
       "\n",
       "    .dataframe tbody tr th {\n",
       "        vertical-align: top;\n",
       "    }\n",
       "\n",
       "    .dataframe thead th {\n",
       "        text-align: right;\n",
       "    }\n",
       "</style>\n",
       "<table border=\"1\" class=\"dataframe\">\n",
       "  <thead>\n",
       "    <tr style=\"text-align: right;\">\n",
       "      <th></th>\n",
       "      <th>species</th>\n",
       "      <th>island</th>\n",
       "      <th>culmen_length_mm</th>\n",
       "      <th>culmen_depth_mm</th>\n",
       "      <th>flipper_length_mm</th>\n",
       "      <th>body_mass_g</th>\n",
       "      <th>sex</th>\n",
       "    </tr>\n",
       "  </thead>\n",
       "  <tbody>\n",
       "    <tr>\n",
       "      <th>count</th>\n",
       "      <td>344</td>\n",
       "      <td>344</td>\n",
       "      <td>342.000000</td>\n",
       "      <td>342.000000</td>\n",
       "      <td>342.000000</td>\n",
       "      <td>342.000000</td>\n",
       "      <td>334</td>\n",
       "    </tr>\n",
       "    <tr>\n",
       "      <th>unique</th>\n",
       "      <td>3</td>\n",
       "      <td>3</td>\n",
       "      <td>NaN</td>\n",
       "      <td>NaN</td>\n",
       "      <td>NaN</td>\n",
       "      <td>NaN</td>\n",
       "      <td>3</td>\n",
       "    </tr>\n",
       "    <tr>\n",
       "      <th>top</th>\n",
       "      <td>Adelie</td>\n",
       "      <td>Biscoe</td>\n",
       "      <td>NaN</td>\n",
       "      <td>NaN</td>\n",
       "      <td>NaN</td>\n",
       "      <td>NaN</td>\n",
       "      <td>MALE</td>\n",
       "    </tr>\n",
       "    <tr>\n",
       "      <th>freq</th>\n",
       "      <td>152</td>\n",
       "      <td>168</td>\n",
       "      <td>NaN</td>\n",
       "      <td>NaN</td>\n",
       "      <td>NaN</td>\n",
       "      <td>NaN</td>\n",
       "      <td>168</td>\n",
       "    </tr>\n",
       "    <tr>\n",
       "      <th>mean</th>\n",
       "      <td>NaN</td>\n",
       "      <td>NaN</td>\n",
       "      <td>43.921930</td>\n",
       "      <td>17.151170</td>\n",
       "      <td>200.915205</td>\n",
       "      <td>4201.754386</td>\n",
       "      <td>NaN</td>\n",
       "    </tr>\n",
       "    <tr>\n",
       "      <th>std</th>\n",
       "      <td>NaN</td>\n",
       "      <td>NaN</td>\n",
       "      <td>5.459584</td>\n",
       "      <td>1.974793</td>\n",
       "      <td>14.061714</td>\n",
       "      <td>801.954536</td>\n",
       "      <td>NaN</td>\n",
       "    </tr>\n",
       "    <tr>\n",
       "      <th>min</th>\n",
       "      <td>NaN</td>\n",
       "      <td>NaN</td>\n",
       "      <td>32.100000</td>\n",
       "      <td>13.100000</td>\n",
       "      <td>172.000000</td>\n",
       "      <td>2700.000000</td>\n",
       "      <td>NaN</td>\n",
       "    </tr>\n",
       "    <tr>\n",
       "      <th>25%</th>\n",
       "      <td>NaN</td>\n",
       "      <td>NaN</td>\n",
       "      <td>39.225000</td>\n",
       "      <td>15.600000</td>\n",
       "      <td>190.000000</td>\n",
       "      <td>3550.000000</td>\n",
       "      <td>NaN</td>\n",
       "    </tr>\n",
       "    <tr>\n",
       "      <th>50%</th>\n",
       "      <td>NaN</td>\n",
       "      <td>NaN</td>\n",
       "      <td>44.450000</td>\n",
       "      <td>17.300000</td>\n",
       "      <td>197.000000</td>\n",
       "      <td>4050.000000</td>\n",
       "      <td>NaN</td>\n",
       "    </tr>\n",
       "    <tr>\n",
       "      <th>75%</th>\n",
       "      <td>NaN</td>\n",
       "      <td>NaN</td>\n",
       "      <td>48.500000</td>\n",
       "      <td>18.700000</td>\n",
       "      <td>213.000000</td>\n",
       "      <td>4750.000000</td>\n",
       "      <td>NaN</td>\n",
       "    </tr>\n",
       "    <tr>\n",
       "      <th>max</th>\n",
       "      <td>NaN</td>\n",
       "      <td>NaN</td>\n",
       "      <td>59.600000</td>\n",
       "      <td>21.500000</td>\n",
       "      <td>231.000000</td>\n",
       "      <td>6300.000000</td>\n",
       "      <td>NaN</td>\n",
       "    </tr>\n",
       "  </tbody>\n",
       "</table>\n",
       "</div>"
      ]
     },
     "execution_count": 27,
     "metadata": {},
     "output_type": "execute_result"
    }
   ],
   "execution_count": 27
  },
  {
   "metadata": {
    "ExecuteTime": {
     "end_time": "2024-04-06T16:23:39.042405Z",
     "start_time": "2024-04-06T16:23:38.712481Z"
    }
   },
   "cell_type": "code",
   "source": "penguins.info()",
   "outputs": [
    {
     "name": "stdout",
     "output_type": "stream",
     "text": [
      "<class 'pandas.core.frame.DataFrame'>\n",
      "RangeIndex: 344 entries, 0 to 343\n",
      "Data columns (total 7 columns):\n",
      " #   Column             Non-Null Count  Dtype  \n",
      "---  ------             --------------  -----  \n",
      " 0   species            344 non-null    object \n",
      " 1   island             344 non-null    object \n",
      " 2   culmen_length_mm   342 non-null    float64\n",
      " 3   culmen_depth_mm    342 non-null    float64\n",
      " 4   flipper_length_mm  342 non-null    float64\n",
      " 5   body_mass_g        342 non-null    float64\n",
      " 6   sex                334 non-null    object \n",
      "dtypes: float64(4), object(3)\n",
      "memory usage: 18.9+ KB\n"
     ]
    }
   ],
   "execution_count": 26
  }
 ],
 "metadata": {
  "kernelspec": {
   "display_name": ".venv",
   "language": "python",
   "name": "python3"
  },
  "language_info": {
   "codemirror_mode": {
    "name": "ipython",
    "version": 3
   },
   "file_extension": ".py",
   "mimetype": "text/x-python",
   "name": "python",
   "nbconvert_exporter": "python",
   "pygments_lexer": "ipython3",
   "version": "3.11.5"
  }
 },
 "nbformat": 4,
 "nbformat_minor": 2
}
