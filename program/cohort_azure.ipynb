{
 "cells": [
  {
   "cell_type": "markdown",
   "metadata": {},
   "source": [
    "# Building Machine Learning Systems That Don't Suck\n"
   ]
  },
  {
   "cell_type": "markdown",
   "metadata": {},
   "source": [
    "References:\n",
    "\n",
    "1. [Azure ML Studio Setup](https://learn.microsoft.com/en-us/azure/machine-learning/quickstart-create-resources?view=azureml-api-2)\n",
    "2. [ML Studio Compute creation](https://learn.microsoft.com/en-us/azure/machine-learning/how-to-create-compute-instance?view=azureml-api-2&tabs=python)\n",
    "3. [ML Studio instance pricing](https://azure.microsoft.com/en-us/pricing/details/machine-learning/#pricing)\n",
    "4. [AWS-Azure Compute comparison](https://www.justaftermidnight247.com/insights/aws-to-azure-instance-mapping-for-easy-comparison/)\n",
    "\n",
    "Also see `azure_setup.md`. This file documents initial setup steps to get you up and running\n"
   ]
  },
  {
   "cell_type": "markdown",
   "metadata": {},
   "source": [
    "## Section 1: Introduction and Initial Setup\n"
   ]
  },
  {
   "cell_type": "code",
   "execution_count": 2,
   "metadata": {},
   "outputs": [],
   "source": [
    "%load_ext autoreload\n",
    "%autoreload 2\n",
    "%load_ext dotenv\n",
    "%dotenv\n",
    "\n",
    "import json\n",
    "import logging\n",
    "import sys\n",
    "from pathlib import Path\n",
    "\n",
    "import ipytest\n",
    "\n",
    "CODE_FOLDER = Path(\"code\")\n",
    "sys.path.extend([f\"./{CODE_FOLDER}\"])\n",
    "\n",
    "DATA_FILEPATH = \"penguins.csv\"\n",
    "\n",
    "ipytest.autoconfig(raise_on_error=True)\n",
    "\n",
    "# By default, basic information about HTTP sessions (URLs, headers, etc.)\n",
    "# is logged at INFO level. Detailed DEBUG level logging, including request/response\n",
    "# bodies and unredacted headers, can be enabled on a client with the `logging_enable` argument.\n",
    "# See full SDK logging documentation with examples in the link below.\n",
    "# https://learn.microsoft.com/en-us/azure/developer/python/sdk/azure-sdk-logging\n",
    "#\n",
    "# To prevent these from spoiling the output of this notebook cells,\n",
    "# we can change the logging  level to ERROR instead.\n",
    "logging.getLogger(\"azure.ai.ml\").setLevel(logging.WARNING)"
   ]
  },
  {
   "cell_type": "markdown",
   "metadata": {},
   "source": [
    "Let's now load the workspace configuration using the sdk and create a client for later use.\n"
   ]
  },
  {
   "cell_type": "code",
   "execution_count": 3,
   "metadata": {},
   "outputs": [],
   "source": [
    "from azure.ai.ml import MLClient\n",
    "from azure.identity import DefaultAzureCredential\n",
    "\n",
    "client = MLClient.from_config(\n",
    "    credential=DefaultAzureCredential(), file_path=\"../config.json\"\n",
    ")\n"
   ]
  },
  {
   "cell_type": "markdown",
   "metadata": {},
   "source": [
    "If you are running the pipeline in Local Mode on an ARM64 machine (for example, on Apple Silicon), you will need to use a custom Docker image to train and evaluate the model. Let's create a variable indicating if we are running on an ARM64 machine.\n"
   ]
  },
  {
   "cell_type": "code",
   "execution_count": 4,
   "metadata": {},
   "outputs": [],
   "source": [
    "# We can retrieve the architecture of the local\n",
    "# computer using the `uname -m` command.\n",
    "architecture = !(uname -m)\n",
    "\n",
    "IS_ARM64_ARCHITECTURE = architecture[0] == \"arm64\"\n"
   ]
  },
  {
   "cell_type": "code",
   "execution_count": 5,
   "metadata": {},
   "outputs": [
    {
     "data": {
      "text/plain": [
       "ComputeInstance({'state': 'Running', 'last_operation': {'operation_name': 'Create', 'operation_time': '2024-04-06T11:31:37.727Z', 'operation_status': 'Succeeded', 'operation_trigger': 'User'}, 'os_image_metadata': <azure.ai.ml.entities._compute._image_metadata.ImageMetadata object at 0x000002CCD095E150>, 'services': [{'display_name': 'Jupyter', 'endpoint_uri': 'https://mlschool.centralindia.instances.azureml.ms/tree/'}, {'display_name': 'Jupyter Lab', 'endpoint_uri': 'https://mlschool.centralindia.instances.azureml.ms/lab'}], 'type': 'computeinstance', 'created_on': '2024-04-06T11:31:30.618821+0000', 'provisioning_state': 'Succeeded', 'provisioning_errors': None, 'name': 'mlschool', 'description': None, 'tags': None, 'properties': {}, 'print_as_yaml': False, 'id': '/subscriptions/2acef264-d285-40af-be00-8dae3516307c/resourceGroups/ml-school-rg/providers/Microsoft.MachineLearningServices/workspaces/ml-school/computes/mlschool', 'Resource__source_path': '', 'base_path': 'd:\\\\DataspellProjects\\\\ml.school\\\\program', 'creation_context': None, 'serialize': <msrest.serialization.Serializer object at 0x000002CCD095FA90>, 'resource_id': None, 'location': 'centralindia', 'size': 'Standard_F4s_v2', 'ssh_public_access_enabled': False, 'create_on_behalf_of': None, 'network_settings': <azure.ai.ml.entities._compute.compute.NetworkSettings object at 0x000002CCD095F110>, 'ssh_settings': <azure.ai.ml.entities._compute.compute_instance.ComputeInstanceSshSettings object at 0x000002CCD095E310>, 'schedules': None, 'identity': None, 'idle_time_before_shutdown': 'PT15M', 'idle_time_before_shutdown_minutes': 15, 'setup_scripts': None, 'enable_node_public_ip': True, 'enable_sso': True, 'enable_root_access': True, 'custom_applications': None, 'subnet': None})"
      ]
     },
     "execution_count": 5,
     "metadata": {},
     "output_type": "execute_result"
    }
   ],
   "source": [
    "# Creating compute\n",
    "# https://learn.microsoft.com/en-us/azure/machine-learning/how-to-create-compute-instance?view=azureml-api-2&tabs=python#create\n",
    "\n",
    "# Compute Instances need to have a unique name across the region.\n",
    "# Here we create a unique name with current datetime\n",
    "from azure.ai.ml.entities import ComputeInstance, AmlCompute\n",
    "import datetime\n",
    "\n",
    "# ci_basic_name = \"mlschool\" + datetime.datetime.now().strftime(\"%Y%m%d%H%M\")\n",
    "ci_basic_name = \"mlschool\"\n",
    "ci_basic = ComputeInstance(\n",
    "    name=ci_basic_name, size=\"Standard_F4s_v2\", idle_time_before_shutdown_minutes=\"15\"\n",
    ")\n",
    "client.begin_create_or_update(ci_basic).result()"
   ]
  },
  {
   "cell_type": "code",
   "execution_count": 11,
   "metadata": {},
   "outputs": [
    {
     "name": "stdout",
     "output_type": "stream",
     "text": [
      "ComputeInstance({'state': 'Stopped', 'last_operation': {'operation_name': 'Stop', 'operation_time': '2024-04-06T11:35:59.453Z', 'operation_status': 'Succeeded', 'operation_trigger': 'User'}, 'os_image_metadata': <azure.ai.ml.entities._compute._image_metadata.ImageMetadata object at 0x000002CCD04B7890>, 'services': [{'display_name': 'Jupyter', 'endpoint_uri': 'https://mlschool.centralindia.instances.azureml.ms/tree/'}, {'display_name': 'Jupyter Lab', 'endpoint_uri': 'https://mlschool.centralindia.instances.azureml.ms/lab'}], 'type': 'computeinstance', 'created_on': '2024-04-06T11:31:30.618821+0000', 'provisioning_state': 'Succeeded', 'provisioning_errors': None, 'name': 'mlschool', 'description': None, 'tags': None, 'properties': {}, 'print_as_yaml': False, 'id': '/subscriptions/2acef264-d285-40af-be00-8dae3516307c/resourceGroups/ml-school-rg/providers/Microsoft.MachineLearningServices/workspaces/ml-school/computes/mlschool', 'Resource__source_path': '', 'base_path': 'd:\\\\DataspellProjects\\\\ml.school\\\\program', 'creation_context': None, 'serialize': <msrest.serialization.Serializer object at 0x000002CCD096C7D0>, 'resource_id': None, 'location': 'centralindia', 'size': 'Standard_F4s_v2', 'ssh_public_access_enabled': False, 'create_on_behalf_of': None, 'network_settings': <azure.ai.ml.entities._compute.compute.NetworkSettings object at 0x000002CCD0869710>, 'ssh_settings': <azure.ai.ml.entities._compute.compute_instance.ComputeInstanceSshSettings object at 0x000002CCD0869210>, 'schedules': None, 'identity': None, 'idle_time_before_shutdown': 'PT15M', 'idle_time_before_shutdown_minutes': 15, 'setup_scripts': None, 'enable_node_public_ip': True, 'enable_sso': True, 'enable_root_access': True, 'custom_applications': None, 'subnet': None})\n"
     ]
    }
   ],
   "source": [
    "# Get compute\n",
    "ci_basic_state = client.compute.get(ci_basic_name)\n",
    "ci_basic_state"
   ]
  },
  {
   "cell_type": "code",
   "execution_count": 25,
   "metadata": {},
   "outputs": [
    {
     "name": "stdout",
     "output_type": "stream",
     "text": [
      "None\n"
     ]
    }
   ],
   "source": [
    "from azure.ai.ml.entities import PipelineJobSettings\n",
    "\n",
    "config = {\n",
    "    \"default_datastore\": \"penguins\",\n",
    "    \"default_compute\": ci_basic_name,\n",
    "    \"continue_on_step_failure\": False,\n",
    "    \"framework_version\": \"2.12\",\n",
    "    \"py_version\": \"py311\",\n",
    "}\n",
    "\n",
    "settings = PipelineJobSettings().fromkeys(config)\n",
    "print(settings.items())"
   ]
  }
 ],
 "metadata": {
  "kernelspec": {
   "display_name": ".venv",
   "language": "python",
   "name": "python3"
  },
  "language_info": {
   "codemirror_mode": {
    "name": "ipython",
    "version": 3
   },
   "file_extension": ".py",
   "mimetype": "text/x-python",
   "name": "python",
   "nbconvert_exporter": "python",
   "pygments_lexer": "ipython3",
   "version": "3.11.5"
  }
 },
 "nbformat": 4,
 "nbformat_minor": 2
}
